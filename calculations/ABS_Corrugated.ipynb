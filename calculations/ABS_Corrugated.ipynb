{
 "cells": [
  {
   "cell_type": "code",
   "execution_count": 1,
   "id": "3a340c20-bee4-4d24-84b2-8b0bd90aa231",
   "metadata": {},
   "outputs": [],
   "source": [
    "import ABS_Plate_Buckling as ABS\n",
    "import ABS_Corrugated_Panel_Buckling as ABScorr\n",
    "from dataclasses import dataclass\n",
    "from math import pi, sqrt, sin, cos, tan, radians"
   ]
  },
  {
   "cell_type": "code",
   "execution_count": 2,
   "id": "c4675697-b3b4-4a60-82fc-086cfacc896f",
   "metadata": {},
   "outputs": [],
   "source": [
    "lc = \"NORMAL OPERATION\"\n",
    "lc = \"SEVERE STORM\"\n",
    "stf_type = \"LOCAL PLATE OF CORRUGATED PANELS\"\n",
    "\n",
    "L = 94.488\n",
    "B = 188.976\n",
    "a = 11.811\n",
    "b = 15.748\n",
    "c = 7.874\n",
    "t = 0.750\n",
    "phi = 75\n",
    "sigma_0 = 51475\n",
    "E = 30e6\n",
    "nu = 0.3\n",
    "\n",
    "sigma_ax_a = 11000\n",
    "sigma_ay_a = 8000\n",
    "sigma_bx_a = 1e-5\n",
    "sigma_by_a = 1e-5\n",
    "tau_a = 4000\n",
    "\n",
    "sigma_ax_b = 10000\n",
    "sigma_ay_b = 7000\n",
    "sigma_bx_b = 1e-5\n",
    "sigma_by_b = 1e-5\n",
    "tau_b = 3000\n",
    "\n",
    "sigma_ax_c = 9000\n",
    "sigma_ay_c = 6000\n",
    "sigma_bx_c = 1e-5\n",
    "sigma_by_c = 1e-5\n",
    "tau_c = 2000\n",
    "\n",
    "sigma_a_unit_c = 12500\n",
    "sigma_b_unit_c = 10000\n",
    "\n",
    "sigma_x_cbhd = 10000\n",
    "sigma_y_cbhd = 7500\n",
    "tau_cbhd = 5000"
   ]
  },
  {
   "cell_type": "code",
   "execution_count": 3,
   "id": "61906446-a75e-433b-b8f4-b9448dcf4cc0",
   "metadata": {},
   "outputs": [],
   "source": [
    "panel_a = ABScorr.Corr_Panel(lc,stf_type,\n",
    "                                  a,\n",
    "                                  L,\n",
    "                                  t,\n",
    "                                  sigma_ax_a,\n",
    "                                  sigma_ay_a,\n",
    "                                  sigma_bx_a,\n",
    "                                  sigma_by_a,\n",
    "                                  tau_a,\n",
    "                                  sigma_0,\n",
    "                                  E,\n",
    "                                  nu,\n",
    "                                  L,\n",
    "                                  B,\n",
    "                                  a,\n",
    "                                  b,\n",
    "                                  c,\n",
    "                                  phi,\n",
    "                                  sigma_a_unit_c,\n",
    "                                  sigma_b_unit_c,\n",
    "                                  sigma_x_cbhd,\n",
    "                                  sigma_y_cbhd,\n",
    "                                  tau_cbhd)\n",
    "\n",
    "panel_b = ABScorr.Corr_Panel(lc,stf_type,\n",
    "                                  b,\n",
    "                                  L,\n",
    "                                  t,\n",
    "                                  sigma_ax_b,\n",
    "                                  sigma_ay_b,\n",
    "                                  sigma_bx_b,\n",
    "                                  sigma_by_b,\n",
    "                                  tau_b,\n",
    "                                  sigma_0,\n",
    "                                  E,\n",
    "                                  nu,\n",
    "                                  L,\n",
    "                                  B,\n",
    "                                  a,\n",
    "                                  b,\n",
    "                                  c,\n",
    "                                  phi,\n",
    "                                  sigma_a_unit_c,\n",
    "                                  sigma_b_unit_c,\n",
    "                                  sigma_x_cbhd,\n",
    "                                  sigma_y_cbhd,\n",
    "                                  tau_cbhd)\n",
    "\n",
    "panel_c = ABScorr.Corr_Panel(lc,stf_type,\n",
    "                                  a,\n",
    "                                  L,\n",
    "                                  t,\n",
    "                                  sigma_ax_c,\n",
    "                                  sigma_ay_c,\n",
    "                                  sigma_bx_c,\n",
    "                                  sigma_by_c,\n",
    "                                  tau_c,\n",
    "                                  sigma_0,\n",
    "                                  E,\n",
    "                                  nu,\n",
    "                                  L,\n",
    "                                  B,\n",
    "                                  a,\n",
    "                                  b,\n",
    "                                  c,\n",
    "                                  phi,\n",
    "                                  sigma_a_unit_c,\n",
    "                                  sigma_b_unit_c,\n",
    "                                  sigma_x_cbhd,\n",
    "                                  sigma_y_cbhd,\n",
    "                                  tau_cbhd)\n"
   ]
  },
  {
   "cell_type": "code",
   "execution_count": 4,
   "id": "bfcbf281-034b-4e61-86aa-48fc07013799",
   "metadata": {},
   "outputs": [
    {
     "name": "stdout",
     "output_type": "stream",
     "text": [
      "Checks for Panel A:\n",
      "panel_a.UC_cbhd()=0.15270293725721806\n",
      "panel_a.Dx_cbhd()=334694764.6104874\n",
      "panel_a.Dy_cbhd()=846623.910741884\n",
      "panel_a.phi_x_cbhd()=0.11213221654333758\n",
      "panel_a.phi_y_cbhd()=8.918043634797085\n",
      "panel_a.kx_cbhd()=79.54407590613171\n",
      "panel_a.ky_cbhd()=4\n",
      "panel_a.ks_cbhd()=3.65\n",
      "panel_a.sigma_E_x_cbhd()=333191.4401694765\n",
      "panel_a.sigma_E_y_cbhd()=99246.42796520483\n",
      "panel_a.tau_E_cbhd()=403819.5636810955\n",
      "panel_a.sigma_G_x_cbhd()=49566.42110710725\n",
      "panel_a.sigma_G_y_cbhd()=45067.493321543516\n",
      "panel_a.tau_G_cbhd()=29194.182420602425\n",
      "panel_a.UC_cbhd()=0.15270293725721806\n",
      "\n",
      "Checks for Panel B:\n",
      "panel_b.UC_cbhd()=0.15270293725721806\n",
      "panel_b.Dx_cbhd()=334694764.6104874\n",
      "panel_b.Dy_cbhd()=846623.910741884\n",
      "panel_b.phi_x_cbhd()=0.11213221654333758\n",
      "panel_b.phi_y_cbhd()=8.918043634797085\n",
      "panel_b.kx_cbhd()=79.54407590613171\n",
      "panel_b.ky_cbhd()=4\n",
      "panel_b.ks_cbhd()=3.65\n",
      "panel_b.sigma_E_x_cbhd()=333191.4401694765\n",
      "panel_b.sigma_E_y_cbhd()=99246.42796520483\n",
      "panel_b.tau_E_cbhd()=403819.5636810955\n",
      "panel_b.sigma_G_x_cbhd()=49566.42110710725\n",
      "panel_b.sigma_G_y_cbhd()=45067.493321543516\n",
      "panel_b.tau_G_cbhd()=29194.182420602425\n",
      "panel_b.UC_cbhd()=0.15270293725721806\n",
      "\n",
      "Checks for Panel C:\n",
      "panel_c.UC_cbhd()=0.15270293725721806\n",
      "panel_c.Dx_cbhd()=334694764.6104874\n",
      "panel_c.Dy_cbhd()=846623.910741884\n",
      "panel_c.phi_x_cbhd()=0.11213221654333758\n",
      "panel_c.phi_y_cbhd()=8.918043634797085\n",
      "panel_c.kx_cbhd()=79.54407590613171\n",
      "panel_c.ky_cbhd()=4\n",
      "panel_c.ks_cbhd()=3.65\n",
      "panel_c.sigma_E_x_cbhd()=333191.4401694765\n",
      "panel_c.sigma_E_y_cbhd()=99246.42796520483\n",
      "panel_c.tau_E_cbhd()=403819.5636810955\n",
      "panel_c.sigma_G_x_cbhd()=49566.42110710725\n",
      "panel_c.sigma_G_y_cbhd()=45067.493321543516\n",
      "panel_c.tau_G_cbhd()=29194.182420602425\n",
      "panel_c.UC_cbhd()=0.15270293725721806\n",
      "\n"
     ]
    }
   ],
   "source": [
    "print(f\"Checks for Panel A:\\n\"\n",
    "f\"{panel_a.UC_cbhd()=}\\n\"\n",
    "f\"{panel_a.Dx_cbhd()=}\\n\"\n",
    "f\"{panel_a.Dy_cbhd()=}\\n\"\n",
    "f\"{panel_a.phi_x_cbhd()=}\\n\"\n",
    "f\"{panel_a.phi_y_cbhd()=}\\n\"\n",
    "f\"{panel_a.kx_cbhd()=}\\n\"\n",
    "f\"{panel_a.ky_cbhd()=}\\n\"\n",
    "f\"{panel_a.ks_cbhd()=}\\n\"\n",
    "f\"{panel_a.sigma_E_x_cbhd()=}\\n\"\n",
    "f\"{panel_a.sigma_E_y_cbhd()=}\\n\"\n",
    "f\"{panel_a.tau_E_cbhd()=}\\n\"\n",
    "f\"{panel_a.sigma_G_x_cbhd()=}\\n\"\n",
    "f\"{panel_a.sigma_G_y_cbhd()=}\\n\"\n",
    "f\"{panel_a.tau_G_cbhd()=}\\n\"\n",
    "f\"{panel_a.UC_cbhd()=}\\n\"\n",
    ")\n",
    "\n",
    "print(f\"Checks for Panel B:\\n\"\n",
    "f\"{panel_b.UC_cbhd()=}\\n\"\n",
    "f\"{panel_b.Dx_cbhd()=}\\n\"\n",
    "f\"{panel_b.Dy_cbhd()=}\\n\"\n",
    "f\"{panel_b.phi_x_cbhd()=}\\n\"\n",
    "f\"{panel_b.phi_y_cbhd()=}\\n\"\n",
    "f\"{panel_b.kx_cbhd()=}\\n\"\n",
    "f\"{panel_b.ky_cbhd()=}\\n\"\n",
    "f\"{panel_b.ks_cbhd()=}\\n\"\n",
    "f\"{panel_b.sigma_E_x_cbhd()=}\\n\"\n",
    "f\"{panel_b.sigma_E_y_cbhd()=}\\n\"\n",
    "f\"{panel_b.tau_E_cbhd()=}\\n\"\n",
    "f\"{panel_b.sigma_G_x_cbhd()=}\\n\"\n",
    "f\"{panel_b.sigma_G_y_cbhd()=}\\n\"\n",
    "f\"{panel_b.tau_G_cbhd()=}\\n\"\n",
    "f\"{panel_b.UC_cbhd()=}\\n\"\n",
    ")\n",
    "\n",
    "print(f\"Checks for Panel C:\\n\"\n",
    "f\"{panel_c.UC_cbhd()=}\\n\"\n",
    "f\"{panel_c.Dx_cbhd()=}\\n\"\n",
    "f\"{panel_c.Dy_cbhd()=}\\n\"\n",
    "f\"{panel_c.phi_x_cbhd()=}\\n\"\n",
    "f\"{panel_c.phi_y_cbhd()=}\\n\"\n",
    "f\"{panel_c.kx_cbhd()=}\\n\"\n",
    "f\"{panel_c.ky_cbhd()=}\\n\"\n",
    "f\"{panel_c.ks_cbhd()=}\\n\"\n",
    "f\"{panel_c.sigma_E_x_cbhd()=}\\n\"\n",
    "f\"{panel_c.sigma_E_y_cbhd()=}\\n\"\n",
    "f\"{panel_c.tau_E_cbhd()=}\\n\"\n",
    "f\"{panel_c.sigma_G_x_cbhd()=}\\n\"\n",
    "f\"{panel_c.sigma_G_y_cbhd()=}\\n\"\n",
    "f\"{panel_c.tau_G_cbhd()=}\\n\"\n",
    "f\"{panel_c.UC_cbhd()=}\\n\"\n",
    ")\n"
   ]
  },
  {
   "cell_type": "code",
   "execution_count": 5,
   "id": "85d4b075-cb6e-49e3-96a0-06f9373330d2",
   "metadata": {},
   "outputs": [
    {
     "name": "stdout",
     "output_type": "stream",
     "text": [
      "Checks for Panel A:\n",
      "panel_a.UC_unit_c() = 0.5773498476909515\n",
      "panel_a.kc_unit_c() = 56.767853086419755\n",
      "panel_a.sigma_EC_unit_c() = 360364.67417430255\n",
      "panel_a.sigma_EB_unit_c() = 353730.73849115527\n",
      "panel_a.sigma_CA_unit_c() = 49710.337158235394\n",
      "panel_a.sigma_CB_unit_c() = 49677.242325016654\n",
      "panel_a.UC_unit_c() = 0.5773498476909515\n",
      "\n",
      "Checks for Panel B:\n",
      "panel_b.UC_unit_c() = 0.5773498476909515\n",
      "panel_b.kc_unit_c() = 56.767853086419755\n",
      "panel_b.sigma_EC_unit_c() = 360364.67417430255\n",
      "panel_b.sigma_EB_unit_c() = 353730.73849115527\n",
      "panel_b.sigma_CA_unit_c() = 49710.337158235394\n",
      "panel_b.sigma_CB_unit_c() = 49677.242325016654\n",
      "panel_b.UC_unit_c() = 0.5773498476909515\n",
      "\n",
      "Checks for Panel C:\n",
      "panel_b.UC_unit_c() = 0.5773498476909515\n",
      "panel_b.kc_unit_c() = 56.767853086419755\n",
      "panel_b.sigma_EC_unit_c() = 360364.67417430255\n",
      "panel_b.sigma_EB_unit_c() = 353730.73849115527\n",
      "panel_b.sigma_CA_unit_c() = 49710.337158235394\n",
      "panel_b.sigma_CB_unit_c() = 49677.242325016654\n",
      "panel_b.UC_unit_c() = 0.5773498476909515\n",
      "\n"
     ]
    }
   ],
   "source": [
    "print(f\"Checks for Panel A:\\n\"\n",
    "f\"{panel_a.UC_unit_c() = }\\n\"\n",
    "f\"{panel_a.kc_unit_c() = }\\n\"\n",
    "f\"{panel_a.sigma_EC_unit_c() = }\\n\"\n",
    "f\"{panel_a.sigma_EB_unit_c() = }\\n\"\n",
    "f\"{panel_a.sigma_CA_unit_c() = }\\n\"\n",
    "f\"{panel_a.sigma_CB_unit_c() = }\\n\"\n",
    "f\"{panel_a.UC_unit_c() = }\\n\"\n",
    ")\n",
    "\n",
    "print(f\"Checks for Panel B:\\n\"\n",
    "f\"{panel_b.UC_unit_c() = }\\n\"\n",
    "f\"{panel_b.kc_unit_c() = }\\n\"\n",
    "f\"{panel_b.sigma_EC_unit_c() = }\\n\"\n",
    "f\"{panel_b.sigma_EB_unit_c() = }\\n\"\n",
    "f\"{panel_b.sigma_CA_unit_c() = }\\n\"\n",
    "f\"{panel_b.sigma_CB_unit_c() = }\\n\"\n",
    "f\"{panel_b.UC_unit_c() = }\\n\"\n",
    ")\n",
    "\n",
    "print(f\"Checks for Panel C:\\n\"\n",
    "f\"{panel_b.UC_unit_c() = }\\n\"\n",
    "f\"{panel_b.kc_unit_c() = }\\n\"\n",
    "f\"{panel_b.sigma_EC_unit_c() = }\\n\"\n",
    "f\"{panel_b.sigma_EB_unit_c() = }\\n\"\n",
    "f\"{panel_b.sigma_CA_unit_c() = }\\n\"\n",
    "f\"{panel_b.sigma_CB_unit_c() = }\\n\"\n",
    "f\"{panel_b.UC_unit_c() = }\\n\"\n",
    ")"
   ]
  },
  {
   "cell_type": "code",
   "execution_count": 6,
   "id": "0bf58560-81a8-49f7-94fb-78eb48075b41",
   "metadata": {},
   "outputs": [
    {
     "data": {
      "text/plain": [
       "77.45584412271572"
      ]
     },
     "execution_count": 6,
     "metadata": {},
     "output_type": "execute_result"
    }
   ],
   "source": [
    "ABScorr.calc_spc(24,28,18,45)"
   ]
  },
  {
   "cell_type": "code",
   "execution_count": 7,
   "id": "33564b47-1a2c-4eb6-81de-293f6df3de7e",
   "metadata": {},
   "outputs": [
    {
     "data": {
      "text/plain": [
       "62.7758754078158"
      ]
     },
     "execution_count": 7,
     "metadata": {},
     "output_type": "execute_result"
    }
   ],
   "source": [
    "ABScorr.calc_spc(24,24,12,52)"
   ]
  },
  {
   "cell_type": "code",
   "execution_count": 8,
   "id": "dc19dc4f-dd5c-4037-a246-2c38ff693c6d",
   "metadata": {},
   "outputs": [
    {
     "data": {
      "text/plain": [
       "12.727922061357857"
      ]
     },
     "execution_count": 8,
     "metadata": {},
     "output_type": "execute_result"
    }
   ],
   "source": [
    "ABScorr.calc_d(18,45)"
   ]
  },
  {
   "cell_type": "code",
   "execution_count": 9,
   "id": "a46257f9-9025-4661-bce7-fc603ac5b700",
   "metadata": {},
   "outputs": [
    {
     "data": {
      "text/plain": [
       "9.456129043280665"
      ]
     },
     "execution_count": 9,
     "metadata": {},
     "output_type": "execute_result"
    }
   ],
   "source": [
    "ABScorr.calc_d(12,52)"
   ]
  },
  {
   "cell_type": "code",
   "execution_count": 14,
   "id": "2bcf7722-9087-43e3-a389-6ff880202690",
   "metadata": {},
   "outputs": [
    {
     "data": {
      "text/plain": [
       "0.7083333333333334"
      ]
     },
     "execution_count": 14,
     "metadata": {},
     "output_type": "execute_result"
    }
   ],
   "source": [
    "ABScorr.calc_tx(72,0.5,15)"
   ]
  },
  {
   "cell_type": "code",
   "execution_count": 15,
   "id": "0394d964-fa92-49a1-b572-5374b3c5d2a8",
   "metadata": {},
   "outputs": [
    {
     "data": {
      "text/plain": [
       "0.9375"
      ]
     },
     "execution_count": 15,
     "metadata": {},
     "output_type": "execute_result"
    }
   ],
   "source": [
    "ABScorr.calc_tx(80,0.75,15)"
   ]
  },
  {
   "cell_type": "code",
   "execution_count": 16,
   "id": "5c8f4de4-1a94-4225-9555-85d8488b0822",
   "metadata": {},
   "outputs": [
    {
     "data": {
      "text/plain": [
       "44.0"
      ]
     },
     "execution_count": 16,
     "metadata": {},
     "output_type": "execute_result"
    }
   ],
   "source": [
    "ABScorr.calc_A(24,28,18,0.5)"
   ]
  },
  {
   "cell_type": "code",
   "execution_count": 17,
   "id": "43c86792-82c3-426a-833b-c22c10f4544d",
   "metadata": {},
   "outputs": [
    {
     "data": {
      "text/plain": [
       "54.0"
      ]
     },
     "execution_count": 17,
     "metadata": {},
     "output_type": "execute_result"
    }
   ],
   "source": [
    "ABScorr.calc_A(24,24,12,0.75)"
   ]
  }
 ],
 "metadata": {
  "kernelspec": {
   "display_name": "Python 3 (pfse)",
   "language": "python",
   "name": "pfse"
  },
  "language_info": {
   "codemirror_mode": {
    "name": "ipython",
    "version": 3
   },
   "file_extension": ".py",
   "mimetype": "text/x-python",
   "name": "python",
   "nbconvert_exporter": "python",
   "pygments_lexer": "ipython3",
   "version": "3.12.4"
  }
 },
 "nbformat": 4,
 "nbformat_minor": 5
}
