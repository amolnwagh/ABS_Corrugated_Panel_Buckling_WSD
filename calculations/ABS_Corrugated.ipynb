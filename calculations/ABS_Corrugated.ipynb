{
 "cells": [
  {
   "cell_type": "code",
   "execution_count": 1,
   "id": "3a340c20-bee4-4d24-84b2-8b0bd90aa231",
   "metadata": {},
   "outputs": [
    {
     "ename": "ModuleNotFoundError",
     "evalue": "No module named 'calculations'",
     "output_type": "error",
     "traceback": [
      "\u001b[1;31m---------------------------------------------------------------------------\u001b[0m",
      "\u001b[1;31mModuleNotFoundError\u001b[0m                       Traceback (most recent call last)",
      "Cell \u001b[1;32mIn[1], line 2\u001b[0m\n\u001b[0;32m      1\u001b[0m \u001b[38;5;28;01mimport\u001b[39;00m \u001b[38;5;21;01mABS_Plate_Buckling\u001b[39;00m \u001b[38;5;28;01mas\u001b[39;00m \u001b[38;5;21;01mABS\u001b[39;00m\n\u001b[1;32m----> 2\u001b[0m \u001b[38;5;28;01mimport\u001b[39;00m \u001b[38;5;21;01mABS_Corrugated_Panel_Buckling\u001b[39;00m \u001b[38;5;28;01mas\u001b[39;00m \u001b[38;5;21;01mABScorr\u001b[39;00m\n\u001b[0;32m      3\u001b[0m \u001b[38;5;28;01mfrom\u001b[39;00m \u001b[38;5;21;01mdataclasses\u001b[39;00m \u001b[38;5;28;01mimport\u001b[39;00m dataclass\n\u001b[0;32m      4\u001b[0m \u001b[38;5;28;01mfrom\u001b[39;00m \u001b[38;5;21;01mmath\u001b[39;00m \u001b[38;5;28;01mimport\u001b[39;00m pi, sqrt, sin, cos, tan, radians\n",
      "File \u001b[1;32m~\\pycode\\ABS_Corrugated_Panel_Buckling_WSD\\calculations\\ABS_Corrugated_Panel_Buckling.py:1\u001b[0m\n\u001b[1;32m----> 1\u001b[0m \u001b[38;5;28;01mimport\u001b[39;00m \u001b[38;5;21;01mcalculations\u001b[39;00m\u001b[38;5;21;01m.\u001b[39;00m\u001b[38;5;21;01mABS_Plate_Buckling\u001b[39;00m \u001b[38;5;28;01mas\u001b[39;00m \u001b[38;5;21;01mABS\u001b[39;00m\n\u001b[0;32m      2\u001b[0m \u001b[38;5;28;01mfrom\u001b[39;00m \u001b[38;5;21;01mdataclasses\u001b[39;00m \u001b[38;5;28;01mimport\u001b[39;00m dataclass\n\u001b[0;32m      3\u001b[0m \u001b[38;5;28;01mfrom\u001b[39;00m \u001b[38;5;21;01mmath\u001b[39;00m \u001b[38;5;28;01mimport\u001b[39;00m pi, sqrt, sin, cos, tan, radians\n",
      "\u001b[1;31mModuleNotFoundError\u001b[0m: No module named 'calculations'"
     ]
    }
   ],
   "source": [
    "import ABS_Plate_Buckling as ABS\n",
    "import ABS_Corrugated_Panel_Buckling as ABScorr\n",
    "from dataclasses import dataclass\n",
    "from math import pi, sqrt, sin, cos, tan, radians"
   ]
  },
  {
   "cell_type": "code",
   "execution_count": null,
   "id": "c4675697-b3b4-4a60-82fc-086cfacc896f",
   "metadata": {},
   "outputs": [],
   "source": [
    "lc = \"NORMAL OPERATION\"\n",
    "stf_type = \"LOCAL PLATE OF CORRUGATED PANELS\"\n",
    "L = 94.488\n",
    "B = 188.976\n",
    "a = 11.811\n",
    "b = 15.748\n",
    "c = 7.874\n",
    "t = 0.750\n",
    "phi = 75.000"
   ]
  },
  {
   "cell_type": "code",
   "execution_count": null,
   "id": "4999ed42-5b09-4289-a681-ae380e9f7201",
   "metadata": {},
   "outputs": [],
   "source": [
    "@dataclass\n",
    "class Corr_Panel(ABS.Panel):\n",
    "    L: float # Length of entire corrugated panel (in) \n",
    "    B: float # width of entire corrugated panel (in)\n",
    "    a: float # width of flange panel \"a\" (in)\n",
    "    b: float # width of flange panel \"b\" (in)\n",
    "    c: float # inclined width of web panel \"c\" (in)\n",
    "    phi: float # angle of web of corrugated panel with respect to flange (degrees)"
   ]
  },
  {
   "cell_type": "code",
   "execution_count": null,
   "id": "61906446-a75e-433b-b8f4-b9448dcf4cc0",
   "metadata": {},
   "outputs": [],
   "source": [
    "corr_panel_a = Corr_Panel(lc,stf_type,a,L,t,11000,8000,1e-5,1e-5,4000,51475,30e6,0.3,L,B,a,b,c,phi)\n",
    "corr_panel_b = Corr_Panel(lc,stf_type,b,L,t,10000,7000,1e-5,1e-5,3000,51475,30e6,0.3,L,B,a,b,c,phi)\n",
    "corr_panel_c = Corr_Panel(lc,stf_type,c,L,t,9000,6000,1e-5,1e-5,2000,51475,30e6,0.3,L,B,a,b,c,phi)"
   ]
  },
  {
   "cell_type": "code",
   "execution_count": null,
   "id": "85d4b075-cb6e-49e3-96a0-06f9373330d2",
   "metadata": {},
   "outputs": [],
   "source": [
    "UC_a = round(corr_panel_a.UC_buckling_state_limit(),3)\n",
    "UC_b = round(corr_panel_b.UC_buckling_state_limit(),3)\n",
    "UC_c = round(corr_panel_c.UC_buckling_state_limit(),3) "
   ]
  },
  {
   "cell_type": "code",
   "execution_count": null,
   "id": "0bf58560-81a8-49f7-94fb-78eb48075b41",
   "metadata": {},
   "outputs": [],
   "source": [
    "print(UC_a, UC_b, UC_c)"
   ]
  },
  {
   "cell_type": "code",
   "execution_count": null,
   "id": "33564b47-1a2c-4eb6-81de-293f6df3de7e",
   "metadata": {},
   "outputs": [],
   "source": []
  }
 ],
 "metadata": {
  "kernelspec": {
   "display_name": "Python 3 (pfse)",
   "language": "python",
   "name": "pfse"
  },
  "language_info": {
   "codemirror_mode": {
    "name": "ipython",
    "version": 3
   },
   "file_extension": ".py",
   "mimetype": "text/x-python",
   "name": "python",
   "nbconvert_exporter": "python",
   "pygments_lexer": "ipython3",
   "version": "3.12.4"
  }
 },
 "nbformat": 4,
 "nbformat_minor": 5
}
