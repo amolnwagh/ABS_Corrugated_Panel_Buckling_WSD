{
 "cells": [
  {
   "cell_type": "code",
   "execution_count": 1,
   "id": "a987a0d2-b0c6-4609-aff4-2e4308ae3a7a",
   "metadata": {},
   "outputs": [],
   "source": [
    "import calculations.ABS_Corrugated_Panel_Buckling as ABScorr"
   ]
  },
  {
   "cell_type": "code",
   "execution_count": 4,
   "id": "5b8e7fca-8072-4bf3-a31a-5efacfd9d2e1",
   "metadata": {},
   "outputs": [
    {
     "data": {
      "text/plain": [
       "7.605699956200124"
      ]
     },
     "execution_count": 4,
     "metadata": {},
     "output_type": "execute_result"
    }
   ],
   "source": [
    "ABScorr.calc_spc(11.811,15.748,7.874,75.000)\n",
    "ABScorr.calc_d(7.874,75.000)\n",
    "\n",
    "\n",
    "\n",
    "\n"
   ]
  }
 ],
 "metadata": {
  "kernelspec": {
   "display_name": "Python 3 (pfse)",
   "language": "python",
   "name": "pfse"
  },
  "language_info": {
   "codemirror_mode": {
    "name": "ipython",
    "version": 3
   },
   "file_extension": ".py",
   "mimetype": "text/x-python",
   "name": "python",
   "nbconvert_exporter": "python",
   "pygments_lexer": "ipython3",
   "version": "3.12.4"
  }
 },
 "nbformat": 4,
 "nbformat_minor": 5
}
